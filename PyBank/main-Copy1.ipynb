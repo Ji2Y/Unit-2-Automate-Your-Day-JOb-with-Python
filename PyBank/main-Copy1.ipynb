{
 "cells": [
  {
   "cell_type": "code",
   "execution_count": 1,
   "id": "53b53dd9-3e64-4c3e-8604-99c4e9188c36",
   "metadata": {},
   "outputs": [],
   "source": [
    "# import the csv file, and locate the file data\n",
    "import csv\n",
    "csvpath = \"../PyBank/budget_data.csv\""
   ]
  },
  {
   "cell_type": "code",
   "execution_count": 32,
   "id": "fb7a3ff0-499c-4c0b-9bf8-3e237287cedf",
   "metadata": {},
   "outputs": [
    {
     "name": "stdout",
     "output_type": "stream",
     "text": [
      "Financial Analysis\n",
      "-----------------------------------\n",
      "Total Months: 86\n",
      "Total: $ 38382578.0\n",
      "Average  Change: $ -2315\n",
      "Greatest Increase in Profits: Jan-2012 ($ 1926159.0 )\n",
      "Greatest Decrease in Profits: Aug-2013 ($ -2196167.0 )\n"
     ]
    }
   ],
   "source": [
    "# Convert it into a list of dictionaries\n",
    "with open(csvpath) as revenue_data:\n",
    "    reader = csv.reader(revenue_data)\n",
    "\n",
    "    # use of next to skip first title row in csv file\n",
    "    next(reader) \n",
    "    revenue = []\n",
    "    date = []\n",
    "    rev_change = []\n",
    "    rev_change_past = []\n",
    "\n",
    "    #The Sum of profits in csv file and counted total months\n",
    "    for row in reader:\n",
    "\n",
    "        revenue.append(float(row[1]))\n",
    "        date.append(row[0])\n",
    "\n",
    "    print(\"Financial Analysis\")\n",
    "    print(\"-----------------------------------\")\n",
    "    print(\"Total Months:\", len(date))\n",
    "    print(\"Total: $\", sum(revenue))\n",
    "\n",
    "    \n",
    "\n",
    "    #Counting the max revenue change, average revenue change, and find the date of the maximum / minimum revenue change date.\n",
    "    for i in range(1,len(revenue)):\n",
    "        rev_change.append(revenue[i] - revenue[i-1])   \n",
    "        avg_rev_change = sum(rev_change)/len(rev_change)\n",
    "\n",
    "        max_rev_change = max(rev_change)\n",
    "\n",
    "        min_rev_change = min(rev_change)\n",
    "\n",
    "        max_rev_change_date = str(date[rev_change.index(max(rev_change))])\n",
    "        min_rev_change_date = str(date[rev_change.index(min(rev_change))])\n",
    "\n",
    "   \n",
    "        \n",
    "    print(\"Average  Change: $\", round(avg_rev_change))\n",
    "    print(\"Greatest Increase in Profits:\", max_rev_change_date,\"($\", max_rev_change,\")\") \n",
    "    print(\"Greatest Decrease in Profits:\", min_rev_change_date,\"($\", min_rev_change,\")\")\n",
    "    # For some reason, I am unable to make the date match with the exact month, and put the previous month. Otherwise the report of the sum crashes.\n",
    "\n"
   ]
  },
  {
   "cell_type": "code",
   "execution_count": null,
   "id": "9caa7a45-3dd7-4b59-ab48-8b1b5ba913c0",
   "metadata": {},
   "outputs": [],
   "source": []
  }
 ],
 "metadata": {
  "kernelspec": {
   "display_name": "Python 3",
   "language": "python",
   "name": "python3"
  },
  "language_info": {
   "codemirror_mode": {
    "name": "ipython",
    "version": 3
   },
   "file_extension": ".py",
   "mimetype": "text/x-python",
   "name": "python",
   "nbconvert_exporter": "python",
   "pygments_lexer": "ipython3",
   "version": "3.8.8"
  }
 },
 "nbformat": 4,
 "nbformat_minor": 5
}
