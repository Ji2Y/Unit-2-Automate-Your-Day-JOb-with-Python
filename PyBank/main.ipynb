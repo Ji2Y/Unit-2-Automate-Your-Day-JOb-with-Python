{
 "cells": [
  {
   "cell_type": "code",
   "execution_count": 8,
   "id": "39558c16-eaf4-445a-bf62-c4d859242184",
   "metadata": {},
   "outputs": [],
   "source": [
    "#Step 1: Import the csv library\n",
    "\n",
    "from pathlib import Path\n",
    "import csv"
   ]
  },
  {
   "cell_type": "code",
   "execution_count": 5,
   "id": "8ce6fc18-d6bd-4826-8321-a65dccf7c439",
   "metadata": {},
   "outputs": [],
   "source": []
  },
  {
   "cell_type": "code",
   "execution_count": 3,
   "id": "c6c0a9f4-d2a2-4396-8359-c95bf0c31e3b",
   "metadata": {},
   "outputs": [],
   "source": []
  },
  {
   "cell_type": "code",
   "execution_count": 1,
   "id": "f622e20b-51ad-419f-87d6-c4166e787b43",
   "metadata": {},
   "outputs": [
    {
     "ename": "NameError",
     "evalue": "name 'Path' is not defined",
     "output_type": "error",
     "traceback": [
      "\u001b[0;31m---------------------------------------------------------------------------\u001b[0m",
      "\u001b[0;31mNameError\u001b[0m                                 Traceback (most recent call last)",
      "\u001b[0;32m<ipython-input-1-bf7d82ece9dc>\u001b[0m in \u001b[0;36m<module>\u001b[0;34m\u001b[0m\n\u001b[1;32m      1\u001b[0m \u001b[0;31m#Step 2: Set the csv file path\u001b[0m\u001b[0;34m\u001b[0m\u001b[0;34m\u001b[0m\u001b[0;34m\u001b[0m\u001b[0m\n\u001b[0;32m----> 2\u001b[0;31m \u001b[0mcsvpath\u001b[0m \u001b[0;34m=\u001b[0m \u001b[0mPath\u001b[0m\u001b[0;34m(\u001b[0m\u001b[0;34m\"../PyBank/budget_data.csv\"\u001b[0m\u001b[0;34m)\u001b[0m\u001b[0;34m\u001b[0m\u001b[0;34m\u001b[0m\u001b[0m\n\u001b[0m\u001b[1;32m      3\u001b[0m \u001b[0;34m\u001b[0m\u001b[0m\n\u001b[1;32m      4\u001b[0m \u001b[0;31m#Step 3: Initialize list of records\u001b[0m\u001b[0;34m\u001b[0m\u001b[0;34m\u001b[0m\u001b[0;34m\u001b[0m\u001b[0m\n\u001b[1;32m      5\u001b[0m \u001b[0mrecords\u001b[0m \u001b[0;34m=\u001b[0m \u001b[0;34m[\u001b[0m\u001b[0;34m]\u001b[0m\u001b[0;34m\u001b[0m\u001b[0;34m\u001b[0m\u001b[0m\n",
      "\u001b[0;31mNameError\u001b[0m: name 'Path' is not defined"
     ]
    }
   ],
   "source": [
    "#Step 2: Set the csv file path\n",
    "csvpath = Path(\"../PyBank/budget_data.csv\")\n",
    "\n",
    "#Step 3: Initialize list of records\n",
    "records = []\n",
    "\n",
    "# @TODO: Open the csv file as an object\n",
    "with open(csvpath, 'r') as csvfile:\n",
    "\n",
    "    # @TODO:\n",
    "    # Pass in the csv file to the csv.reader() function\n",
    "    # (with ',' as the delmiter/separator) and return the csvreader object\n",
    "    csvreader = csv.reader(csvfile, delimiter=',')\n",
    "\n",
    "    # @TODO: Read the header row first (skip this step if there is no header)\n",
    "    csv_header = next(csvreader)\n",
    "\n",
    "    # @TODO: Print the header\n",
    "    print(csv_header)\n",
    "\n",
    "    # @TODO: Append the column 'change' to the header\n",
    "    csv_header.append(\"change\")\n",
    "\n",
    "    # @TODO: Append the header to the list of records\n",
    "    records.append(csv_header)\n",
    "\n",
    "    # @TODO: Read each row of data after the header\n",
    "    for row in csvreader:\n",
    "\n",
    "        # @TODO: Print the row\n",
    "        print(row)\n",
    "\n",
    "        # @TODO:\n",
    "        # Set the 'name', 'count', 'revenue' variables for better\n",
    "        # readability, convert strings to ints for numerical calculations\n",
    "        date = row[0]\n",
    "        pnl = int(row[1])\n",
    "        \n",
    "\n",
    "        # @TODO: Calculate the change (round to the nearest 2 decimal places)\n",
    "        past_pnl = 0\n",
    "        for change in pnl:\n",
    "            change = pnl - past_pnl\n",
    "            past_pnl = pnl\n",
    "\n",
    "        # @TODO: Append the average to the row\n",
    "        row.append(change)\n",
    "\n",
    "        # @TODO: Append the row to the list of records\n",
    "        records.append(row)\n",
    "\n",
    "\n"
   ]
  },
  {
   "cell_type": "code",
   "execution_count": 23,
   "id": "53b53dd9-3e64-4c3e-8604-99c4e9188c36",
   "metadata": {},
   "outputs": [
    {
     "name": "stdout",
     "output_type": "stream",
     "text": [
      "[['Date', 'Profit/Losses', 'change']]\n"
     ]
    }
   ],
   "source": [
    "print(records)\n"
   ]
  },
  {
   "cell_type": "code",
   "execution_count": null,
   "id": "fb7a3ff0-499c-4c0b-9bf8-3e237287cedf",
   "metadata": {},
   "outputs": [],
   "source": []
  },
  {
   "cell_type": "code",
   "execution_count": null,
   "id": "fd5d7a93-b26e-465c-b944-a6e60860a6d3",
   "metadata": {},
   "outputs": [],
   "source": []
  },
  {
   "cell_type": "code",
   "execution_count": null,
   "id": "dfdb0296-4faa-4cd3-89eb-0ee79f061e78",
   "metadata": {},
   "outputs": [],
   "source": []
  },
  {
   "cell_type": "code",
   "execution_count": null,
   "id": "f5f33a69-8454-4ed5-a648-716b0007fd04",
   "metadata": {},
   "outputs": [],
   "source": []
  },
  {
   "cell_type": "code",
   "execution_count": null,
   "id": "49e34e3e-4f6b-46eb-8773-b4474e49ed3e",
   "metadata": {},
   "outputs": [],
   "source": []
  },
  {
   "cell_type": "code",
   "execution_count": null,
   "id": "bf86f913-a1c7-4f87-821f-e646ce57e8dc",
   "metadata": {},
   "outputs": [],
   "source": []
  },
  {
   "cell_type": "code",
   "execution_count": null,
   "id": "c1b43a63-49fc-4e1e-afdf-db4f4ce66665",
   "metadata": {},
   "outputs": [],
   "source": []
  },
  {
   "cell_type": "code",
   "execution_count": null,
   "id": "520b26cd-693d-46ac-9a23-1c3dacc8b3ce",
   "metadata": {},
   "outputs": [],
   "source": []
  },
  {
   "cell_type": "code",
   "execution_count": null,
   "id": "9bc4d4ae-b8e5-4ef4-85c4-29911aedf758",
   "metadata": {},
   "outputs": [],
   "source": []
  }
 ],
 "metadata": {
  "kernelspec": {
   "display_name": "Python 3",
   "language": "python",
   "name": "python3"
  },
  "language_info": {
   "codemirror_mode": {
    "name": "ipython",
    "version": 3
   },
   "file_extension": ".py",
   "mimetype": "text/x-python",
   "name": "python",
   "nbconvert_exporter": "python",
   "pygments_lexer": "ipython3",
   "version": "3.8.8"
  }
 },
 "nbformat": 4,
 "nbformat_minor": 5
}
